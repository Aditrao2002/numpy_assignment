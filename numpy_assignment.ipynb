{
  "cells": [
    {
      "cell_type": "markdown",
      "source": [
        "1. Create a 3x3 NumPy Array and Interchange Rows and Columns"
      ],
      "metadata": {
        "id": "D8ihC3W4Oler"
      }
    },
    {
      "cell_type": "code",
      "source": [
        "import numpy as np\n",
        "\n",
        "# Create a 3x3 array with random integers between 1 and 100\n",
        "arr = np.random.randint(1, 101, size=(3, 3))\n",
        "print(\"Original Array:\\n\", arr)\n",
        "\n",
        "# Interchange rows and columns (Transpose)\n",
        "transposed_arr = np.transpose(arr)\n",
        "print(\"Transposed Array:\\n\", transposed_arr)\n"
      ],
      "metadata": {
        "colab": {
          "base_uri": "https://localhost:8080/"
        },
        "id": "a7DMoMRQOnBt",
        "outputId": "847b274b-6a2e-4bcc-8fd8-bc3c7524cef5"
      },
      "execution_count": 1,
      "outputs": [
        {
          "output_type": "stream",
          "name": "stdout",
          "text": [
            "Original Array:\n",
            " [[ 18  68 100]\n",
            " [ 43  96  80]\n",
            " [ 23  78  74]]\n",
            "Transposed Array:\n",
            " [[ 18  43  23]\n",
            " [ 68  96  78]\n",
            " [100  80  74]]\n"
          ]
        }
      ]
    },
    {
      "cell_type": "markdown",
      "source": [
        "2. Reshape a 1D NumPy Array into 2x5 and then into 5x2 Arrays"
      ],
      "metadata": {
        "id": "5gu1ArPvO3_X"
      }
    },
    {
      "cell_type": "code",
      "source": [
        "# Create a 1D array with 10 elements\n",
        "arr = np.arange(1, 11)\n",
        "print(\"Original 1D Array:\\n\", arr)\n",
        "\n",
        "# Reshape into 2x5\n",
        "reshaped_2x5 = arr.reshape(2, 5)\n",
        "print(\"Reshaped to 2x5:\\n\", reshaped_2x5)\n",
        "\n",
        "# Reshape into 5x2\n",
        "reshaped_5x2 = arr.reshape(5, 2)\n",
        "print(\"Reshaped to 5x2:\\n\", reshaped_5x2)\n"
      ],
      "metadata": {
        "colab": {
          "base_uri": "https://localhost:8080/"
        },
        "id": "eC670TZwO82D",
        "outputId": "10b233a4-767b-4381-f061-f18fa3ea8285"
      },
      "execution_count": 2,
      "outputs": [
        {
          "output_type": "stream",
          "name": "stdout",
          "text": [
            "Original 1D Array:\n",
            " [ 1  2  3  4  5  6  7  8  9 10]\n",
            "Reshaped to 2x5:\n",
            " [[ 1  2  3  4  5]\n",
            " [ 6  7  8  9 10]]\n",
            "Reshaped to 5x2:\n",
            " [[ 1  2]\n",
            " [ 3  4]\n",
            " [ 5  6]\n",
            " [ 7  8]\n",
            " [ 9 10]]\n"
          ]
        }
      ]
    },
    {
      "cell_type": "markdown",
      "source": [
        "3. Create a 4x4 NumPy Array with Random Float Values and Add a Border of Zeros"
      ],
      "metadata": {
        "id": "p6XHf5xqP-gS"
      }
    },
    {
      "cell_type": "code",
      "source": [
        "# Create a 4x4 array with random float values\n",
        "arr = np.random.rand(4, 4)\n",
        "print(\"Original 4x4 Array:\\n\", arr)\n",
        "\n",
        "# Add a border of zeros\n",
        "bordered_arr = np.pad(arr, pad_width=1, mode='constant', constant_values=0)\n",
        "print(\"Array with Zero Border (6x6):\\n\", bordered_arr)\n"
      ],
      "metadata": {
        "colab": {
          "base_uri": "https://localhost:8080/"
        },
        "id": "-snY9DRcQCHf",
        "outputId": "f5fef829-f7ec-4405-e455-867b397497fa"
      },
      "execution_count": 3,
      "outputs": [
        {
          "output_type": "stream",
          "name": "stdout",
          "text": [
            "Original 4x4 Array:\n",
            " [[0.5677443  0.57720099 0.60834421 0.62356725]\n",
            " [0.19790742 0.09500086 0.33266081 0.24495793]\n",
            " [0.43819631 0.484977   0.2839963  0.51446709]\n",
            " [0.98662078 0.58931104 0.0679857  0.8657235 ]]\n",
            "Array with Zero Border (6x6):\n",
            " [[0.         0.         0.         0.         0.         0.        ]\n",
            " [0.         0.5677443  0.57720099 0.60834421 0.62356725 0.        ]\n",
            " [0.         0.19790742 0.09500086 0.33266081 0.24495793 0.        ]\n",
            " [0.         0.43819631 0.484977   0.2839963  0.51446709 0.        ]\n",
            " [0.         0.98662078 0.58931104 0.0679857  0.8657235  0.        ]\n",
            " [0.         0.         0.         0.         0.         0.        ]]\n"
          ]
        }
      ]
    },
    {
      "cell_type": "markdown",
      "source": [
        "4. Create an Array of Integers from 10 to 60 with a Step of 5"
      ],
      "metadata": {
        "id": "Z7QqppxUQMRu"
      }
    },
    {
      "cell_type": "code",
      "source": [
        "arr = np.arange(10, 65, 5)\n",
        "print(\"Array from 10 to 60 with step 5:\\n\", arr)\n"
      ],
      "metadata": {
        "colab": {
          "base_uri": "https://localhost:8080/"
        },
        "id": "HkHxXhAjQQfT",
        "outputId": "980e5464-5898-4bf2-8ea0-2cba9e82e1d1"
      },
      "execution_count": 4,
      "outputs": [
        {
          "output_type": "stream",
          "name": "stdout",
          "text": [
            "Array from 10 to 60 with step 5:\n",
            " [10 15 20 25 30 35 40 45 50 55 60]\n"
          ]
        }
      ]
    },
    {
      "cell_type": "markdown",
      "source": [
        "5. Apply Different Case Transformations to Strings in a NumPy Array"
      ],
      "metadata": {
        "id": "eg3H8gdSQTfP"
      }
    },
    {
      "cell_type": "code",
      "source": [
        "# Create an array of strings\n",
        "arr = np.array(['python', 'numpy', 'pandas'])\n",
        "\n",
        "# Apply transformations\n",
        "uppercase_arr = np.char.upper(arr)\n",
        "lowercase_arr = np.char.lower(arr)\n",
        "titlecase_arr = np.char.title(arr)\n",
        "\n",
        "print(\"Uppercase:\\n\", uppercase_arr)\n",
        "print(\"Lowercase:\\n\", lowercase_arr)\n",
        "print(\"Titlecase:\\n\", titlecase_arr)\n"
      ],
      "metadata": {
        "colab": {
          "base_uri": "https://localhost:8080/"
        },
        "id": "HxbLLdMLQdgr",
        "outputId": "dadc536e-99e3-480e-eb56-28fb2459e1e5"
      },
      "execution_count": 7,
      "outputs": [
        {
          "output_type": "stream",
          "name": "stdout",
          "text": [
            "Uppercase:\n",
            " ['PYTHON' 'NUMPY' 'PANDAS']\n",
            "Lowercase:\n",
            " ['python' 'numpy' 'pandas']\n",
            "Titlecase:\n",
            " ['Python' 'Numpy' 'Pandas']\n"
          ]
        }
      ]
    },
    {
      "cell_type": "markdown",
      "source": [
        "6. Insert a Space Between Each Character in Every Word of a NumPy Array"
      ],
      "metadata": {
        "id": "e9mF9FaLQrZU"
      }
    },
    {
      "cell_type": "code",
      "source": [
        "# Create an array of words\n",
        "arr = np.array(['python', 'numpy', 'pandas'])\n",
        "\n",
        "# Insert a space between each character\n",
        "spaced_arr = np.char.join(' ', arr)\n",
        "\n",
        "print(\"Spaced Words:\\n\", spaced_arr)\n"
      ],
      "metadata": {
        "colab": {
          "base_uri": "https://localhost:8080/"
        },
        "id": "qhc1H2zJQskK",
        "outputId": "cd0cb0bc-9fc4-4803-b82f-8cbe5c561bff"
      },
      "execution_count": 8,
      "outputs": [
        {
          "output_type": "stream",
          "name": "stdout",
          "text": [
            "Spaced Words:\n",
            " ['p y t h o n' 'n u m p y' 'p a n d a s']\n"
          ]
        }
      ]
    },
    {
      "cell_type": "markdown",
      "source": [
        "7. Perform Element-Wise Operations on Two 2D Arrays"
      ],
      "metadata": {
        "id": "wSAQP0y-QxmT"
      }
    },
    {
      "cell_type": "code",
      "source": [
        "# Create two 2D arrays\n",
        "arr1 = np.array([[1, 2], [3, 4]])\n",
        "arr2 = np.array([[5, 6], [7, 8]])\n",
        "\n",
        "# Element-wise addition, subtraction, multiplication, and division\n",
        "add_result = np.add(arr1, arr2)\n",
        "sub_result = np.subtract(arr1, arr2)\n",
        "mul_result = np.multiply(arr1, arr2)\n",
        "div_result = np.divide(arr1, arr2)\n",
        "\n",
        "print(\"Addition:\\n\", add_result)\n",
        "print(\"Subtraction:\\n\", sub_result)\n",
        "print(\"Multiplication:\\n\", mul_result)\n",
        "print(\"Division:\\n\", div_result)\n"
      ],
      "metadata": {
        "colab": {
          "base_uri": "https://localhost:8080/"
        },
        "id": "oXel0NH0Q1zx",
        "outputId": "5efe21d4-18bc-410e-923f-3d57868c1aec"
      },
      "execution_count": 9,
      "outputs": [
        {
          "output_type": "stream",
          "name": "stdout",
          "text": [
            "Addition:\n",
            " [[ 6  8]\n",
            " [10 12]]\n",
            "Subtraction:\n",
            " [[-4 -4]\n",
            " [-4 -4]]\n",
            "Multiplication:\n",
            " [[ 5 12]\n",
            " [21 32]]\n",
            "Division:\n",
            " [[0.2        0.33333333]\n",
            " [0.42857143 0.5       ]]\n"
          ]
        }
      ]
    },
    {
      "cell_type": "markdown",
      "source": [
        "8. Create a 5x5 Identity Matrix and Extract Diagonal Elements\n"
      ],
      "metadata": {
        "id": "HTmEwLmXQ621"
      }
    },
    {
      "cell_type": "code",
      "source": [
        "# Create a 5x5 identity matrix\n",
        "identity_matrix = np.eye(5)\n",
        "print(\"Identity Matrix:\\n\", identity_matrix)\n",
        "\n",
        "# Extract diagonal elements\n",
        "diagonal_elements = np.diag(identity_matrix)\n",
        "print(\"Diagonal Elements:\\n\", diagonal_elements)\n"
      ],
      "metadata": {
        "colab": {
          "base_uri": "https://localhost:8080/"
        },
        "id": "IHaDVMtQRAtg",
        "outputId": "09d25b37-7b0f-48e8-8c9d-63ffb9dbea0b"
      },
      "execution_count": 10,
      "outputs": [
        {
          "output_type": "stream",
          "name": "stdout",
          "text": [
            "Identity Matrix:\n",
            " [[1. 0. 0. 0. 0.]\n",
            " [0. 1. 0. 0. 0.]\n",
            " [0. 0. 1. 0. 0.]\n",
            " [0. 0. 0. 1. 0.]\n",
            " [0. 0. 0. 0. 1.]]\n",
            "Diagonal Elements:\n",
            " [1. 1. 1. 1. 1.]\n"
          ]
        }
      ]
    },
    {
      "cell_type": "markdown",
      "source": [
        "9. Find and Display Prime Numbers in an Array of Random Integers"
      ],
      "metadata": {
        "id": "90HlPvuBRLFU"
      }
    },
    {
      "cell_type": "code",
      "source": [
        "# Create an array of 100 random integers between 0 and 1000\n",
        "arr = np.random.randint(0, 1001, size=100)\n",
        "\n",
        "# Function to check for prime numbers\n",
        "def is_prime(n):\n",
        "    if n < 2:\n",
        "        return False\n",
        "    for i in range(2, int(np.sqrt(n)) + 1):\n",
        "        if n % i == 0:\n",
        "            return False\n",
        "    return True\n",
        "\n",
        "# Find prime numbers\n",
        "prime_numbers = np.array([num for num in arr if is_prime(num)])\n",
        "print(\"Prime Numbers:\\n\", prime_numbers)\n"
      ],
      "metadata": {
        "colab": {
          "base_uri": "https://localhost:8080/"
        },
        "id": "31gR4wAARO2C",
        "outputId": "d5960e0f-6d52-413f-a5ee-26f9bb4d3839"
      },
      "execution_count": 11,
      "outputs": [
        {
          "output_type": "stream",
          "name": "stdout",
          "text": [
            "Prime Numbers:\n",
            " [967 619 353 937 829 701 827  59 823 263 431 571 269]\n"
          ]
        }
      ]
    },
    {
      "cell_type": "markdown",
      "source": [
        "10. Calculate Weekly Averages of Daily Temperatures for a Month"
      ],
      "metadata": {
        "id": "4bKasXEDRTiV"
      }
    },
    {
      "cell_type": "code",
      "source": [
        "# Create an array representing daily temperatures for a month (30 days)\n",
        "daily_temps = np.random.randint(15, 40, size=30)\n",
        "print(\"Daily Temperatures:\\n\", daily_temps)\n",
        "\n",
        "# Reshape into weeks (4 weeks + extra 2 days)\n",
        "weekly_temps = np.array_split(daily_temps, 5)\n",
        "\n",
        "# Calculate weekly averages\n",
        "weekly_averages = [np.mean(week) for week in weekly_temps]\n",
        "print(\"Weekly Averages:\\n\", weekly_averages)\n"
      ],
      "metadata": {
        "colab": {
          "base_uri": "https://localhost:8080/"
        },
        "id": "sdZ5pawfRX2y",
        "outputId": "5e7e5823-bbce-41b1-f760-5e6bb1b078c2"
      },
      "execution_count": 12,
      "outputs": [
        {
          "output_type": "stream",
          "name": "stdout",
          "text": [
            "Daily Temperatures:\n",
            " [36 18 15 31 39 22 36 31 37 18 29 30 23 35 25 23 33 18 26 32 38 32 31 30\n",
            " 22 19 21 27 29 29]\n",
            "Weekly Averages:\n",
            " [26.833333333333332, 30.166666666666668, 26.166666666666668, 31.5, 24.5]\n"
          ]
        }
      ]
    }
  ],
  "metadata": {
    "colab": {
      "name": "Welcome To Colab",
      "provenance": []
    },
    "kernelspec": {
      "display_name": "Python 3",
      "name": "python3"
    }
  },
  "nbformat": 4,
  "nbformat_minor": 0
}